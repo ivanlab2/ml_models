{
 "cells": [
  {
   "cell_type": "markdown",
   "id": "a15d04f1",
   "metadata": {},
   "source": [
    "# Тестирование вероятностной тематической модели\n"
   ]
  },
  {
   "cell_type": "code",
   "execution_count": 2,
   "id": "02c01892",
   "metadata": {},
   "outputs": [],
   "source": [
    "import sys\n",
    "import os\n",
    "current_dir = os.path.abspath('')\n",
    "project_root = os.path.abspath(os.path.join(current_dir, '..'))\n",
    "sys.path.insert(0, project_root)"
   ]
  },
  {
   "cell_type": "code",
   "execution_count": 3,
   "id": "cc9d619f",
   "metadata": {},
   "outputs": [],
   "source": [
    "import numpy as np\n",
    "import pandas as pd\n",
    "from sklearn.datasets import fetch_20newsgroups\n",
    "from sklearn.model_selection import train_test_split\n",
    "import time\n",
    "from LDA import LDA\n",
    "from sklearn.decomposition import LatentDirichletAllocation"
   ]
  },
  {
   "cell_type": "markdown",
   "id": "0779cb56",
   "metadata": {},
   "source": [
    "## Подготовка данных"
   ]
  },
  {
   "cell_type": "code",
   "execution_count": 4,
   "id": "52cbc231",
   "metadata": {},
   "outputs": [],
   "source": [
    "categories = ['soc.religion.christian','comp.graphics', 'sci.med','rec.motorcycles']\n",
    "X,y = fetch_20newsgroups(categories=categories,return_X_y=True)\n",
    "X_train,X_test,y_train,y_test=train_test_split(X,y, test_size=0.2, random_state=2025)"
   ]
  },
  {
   "cell_type": "markdown",
   "id": "4638e525",
   "metadata": {},
   "source": [
    "## Тестирование латентного размещения Дирихле"
   ]
  },
  {
   "cell_type": "code",
   "execution_count": 4,
   "id": "5b4fd962",
   "metadata": {},
   "outputs": [],
   "source": [
    "lda=LDA(num_themes=4, alpha=1.5, beta=1.5)"
   ]
  },
  {
   "cell_type": "code",
   "execution_count": 6,
   "id": "0062d55c",
   "metadata": {},
   "outputs": [
    {
     "name": "stdout",
     "output_type": "stream",
     "text": [
      "Время выполнения реализованного алгоритма: 1490396.1744308472 ms\n",
      "Время выполнения эталонного алгоритма: 4752.091646194458 ms\n"
     ]
    }
   ],
   "source": [
    "start = time.time()\n",
    "phi_train,theta_train=lda.fit_predict(train_text=X_train,max_steps=500)\n",
    "end = time.time()\n",
    "print(\"Время выполнения реализованного алгоритма:\",\n",
    "      (end-start) * 10**3, \"ms\")\n",
    "lda_etalon=LatentDirichletAllocation(n_components=4)\n",
    "start = time.time()\n",
    "X_t=lda.vectorizer.transform(X_train)\n",
    "etalon_matrix=lda_etalon.fit_transform(X_t)\n",
    "end = time.time()\n",
    "print(\"Время выполнения эталонного алгоритма:\",\n",
    "      (end-start) * 10**3, \"ms\")"
   ]
  },
  {
   "cell_type": "markdown",
   "id": "fdf168bc",
   "metadata": {},
   "source": [
    "## Решение задачи классификации"
   ]
  },
  {
   "cell_type": "markdown",
   "id": "4df9a6b3",
   "metadata": {},
   "source": [
    "Задача классификации в данном случае требует ручной разметки подходящих столбцов\n"
   ]
  },
  {
   "cell_type": "code",
   "execution_count": 7,
   "id": "bfc3a8a4",
   "metadata": {},
   "outputs": [
    {
     "data": {
      "text/html": [
       "<div>\n",
       "<style scoped>\n",
       "    .dataframe tbody tr th:only-of-type {\n",
       "        vertical-align: middle;\n",
       "    }\n",
       "\n",
       "    .dataframe tbody tr th {\n",
       "        vertical-align: top;\n",
       "    }\n",
       "\n",
       "    .dataframe thead th {\n",
       "        text-align: right;\n",
       "    }\n",
       "</style>\n",
       "<table border=\"1\" class=\"dataframe\">\n",
       "  <thead>\n",
       "    <tr style=\"text-align: right;\">\n",
       "      <th>col_0</th>\n",
       "      <th>0</th>\n",
       "      <th>1</th>\n",
       "      <th>2</th>\n",
       "      <th>3</th>\n",
       "    </tr>\n",
       "    <tr>\n",
       "      <th>row_0</th>\n",
       "      <th></th>\n",
       "      <th></th>\n",
       "      <th></th>\n",
       "      <th></th>\n",
       "    </tr>\n",
       "  </thead>\n",
       "  <tbody>\n",
       "    <tr>\n",
       "      <th>0</th>\n",
       "      <td>5</td>\n",
       "      <td>3</td>\n",
       "      <td>279</td>\n",
       "      <td>4</td>\n",
       "    </tr>\n",
       "    <tr>\n",
       "      <th>1</th>\n",
       "      <td>14</td>\n",
       "      <td>7</td>\n",
       "      <td>149</td>\n",
       "      <td>463</td>\n",
       "    </tr>\n",
       "    <tr>\n",
       "      <th>2</th>\n",
       "      <td>417</td>\n",
       "      <td>3</td>\n",
       "      <td>15</td>\n",
       "      <td>9</td>\n",
       "    </tr>\n",
       "    <tr>\n",
       "      <th>3</th>\n",
       "      <td>24</td>\n",
       "      <td>470</td>\n",
       "      <td>30</td>\n",
       "      <td>8</td>\n",
       "    </tr>\n",
       "  </tbody>\n",
       "</table>\n",
       "</div>"
      ],
      "text/plain": [
       "col_0    0    1    2    3\n",
       "row_0                    \n",
       "0        5    3  279    4\n",
       "1       14    7  149  463\n",
       "2      417    3   15    9\n",
       "3       24  470   30    8"
      ]
     },
     "execution_count": 7,
     "metadata": {},
     "output_type": "execute_result"
    }
   ],
   "source": [
    "y_pred_train=np.argmax(theta_train,axis=0)\n",
    "pd.crosstab(y_pred_train,y_train)"
   ]
  },
  {
   "cell_type": "code",
   "execution_count": 8,
   "id": "e604df1a",
   "metadata": {},
   "outputs": [],
   "source": [
    "def get_accuracy(matches_dict,y_pred,y_real):#Расчёт accuracy\n",
    "    trues=0\n",
    "    for ind_pred, ind_real in matches_dict.items():\n",
    "        trues+=np.sum(np.isin(np.where(y_pred==ind_pred), np.where(y_real==ind_real)))\n",
    "    return trues/len(y_real)"
   ]
  },
  {
   "cell_type": "code",
   "execution_count": 11,
   "id": "b096f78b",
   "metadata": {},
   "outputs": [
    {
     "name": "stdout",
     "output_type": "stream",
     "text": [
      "Точность на тренировочных данных: 0.857\n"
     ]
    }
   ],
   "source": [
    "matches={\n",
    "    0:2,\n",
    "    1:3,\n",
    "    2:0,\n",
    "    3:1\n",
    "}\n",
    "print(\"Точность на тренировочных данных:\",round(get_accuracy(matches,y_pred_train,y_train),3))"
   ]
  },
  {
   "cell_type": "code",
   "execution_count": 12,
   "id": "0be8548a",
   "metadata": {},
   "outputs": [],
   "source": [
    "theta_test=lda.predict(X_test,max_steps=100)"
   ]
  },
  {
   "cell_type": "code",
   "execution_count": 13,
   "id": "5341571e",
   "metadata": {},
   "outputs": [
    {
     "data": {
      "text/html": [
       "<div>\n",
       "<style scoped>\n",
       "    .dataframe tbody tr th:only-of-type {\n",
       "        vertical-align: middle;\n",
       "    }\n",
       "\n",
       "    .dataframe tbody tr th {\n",
       "        vertical-align: top;\n",
       "    }\n",
       "\n",
       "    .dataframe thead th {\n",
       "        text-align: right;\n",
       "    }\n",
       "</style>\n",
       "<table border=\"1\" class=\"dataframe\">\n",
       "  <thead>\n",
       "    <tr style=\"text-align: right;\">\n",
       "      <th>col_0</th>\n",
       "      <th>0</th>\n",
       "      <th>1</th>\n",
       "      <th>2</th>\n",
       "      <th>3</th>\n",
       "    </tr>\n",
       "    <tr>\n",
       "      <th>row_0</th>\n",
       "      <th></th>\n",
       "      <th></th>\n",
       "      <th></th>\n",
       "      <th></th>\n",
       "    </tr>\n",
       "  </thead>\n",
       "  <tbody>\n",
       "    <tr>\n",
       "      <th>0</th>\n",
       "      <td>6</td>\n",
       "      <td>32</td>\n",
       "      <td>63</td>\n",
       "      <td>23</td>\n",
       "    </tr>\n",
       "    <tr>\n",
       "      <th>1</th>\n",
       "      <td>6</td>\n",
       "      <td>25</td>\n",
       "      <td>11</td>\n",
       "      <td>73</td>\n",
       "    </tr>\n",
       "    <tr>\n",
       "      <th>2</th>\n",
       "      <td>53</td>\n",
       "      <td>40</td>\n",
       "      <td>10</td>\n",
       "      <td>18</td>\n",
       "    </tr>\n",
       "    <tr>\n",
       "      <th>3</th>\n",
       "      <td>8</td>\n",
       "      <td>85</td>\n",
       "      <td>6</td>\n",
       "      <td>16</td>\n",
       "    </tr>\n",
       "  </tbody>\n",
       "</table>\n",
       "</div>"
      ],
      "text/plain": [
       "col_0   0   1   2   3\n",
       "row_0                \n",
       "0       6  32  63  23\n",
       "1       6  25  11  73\n",
       "2      53  40  10  18\n",
       "3       8  85   6  16"
      ]
     },
     "execution_count": 13,
     "metadata": {},
     "output_type": "execute_result"
    }
   ],
   "source": [
    "y_pred_test=np.argmax(theta_test,axis=0)\n",
    "pd.crosstab(y_test,y_pred_test)"
   ]
  },
  {
   "cell_type": "code",
   "execution_count": 14,
   "id": "da42a587",
   "metadata": {},
   "outputs": [
    {
     "name": "stdout",
     "output_type": "stream",
     "text": [
      "Точность на тренировочных данных: 0.577\n"
     ]
    }
   ],
   "source": [
    "print(\"Точность на тренировочных данных:\",round(get_accuracy(matches,y_pred_test,y_test),3))"
   ]
  },
  {
   "cell_type": "code",
   "execution_count": 15,
   "id": "0681b7f8",
   "metadata": {},
   "outputs": [
    {
     "data": {
      "text/html": [
       "<div>\n",
       "<style scoped>\n",
       "    .dataframe tbody tr th:only-of-type {\n",
       "        vertical-align: middle;\n",
       "    }\n",
       "\n",
       "    .dataframe tbody tr th {\n",
       "        vertical-align: top;\n",
       "    }\n",
       "\n",
       "    .dataframe thead th {\n",
       "        text-align: right;\n",
       "    }\n",
       "</style>\n",
       "<table border=\"1\" class=\"dataframe\">\n",
       "  <thead>\n",
       "    <tr style=\"text-align: right;\">\n",
       "      <th>col_0</th>\n",
       "      <th>0</th>\n",
       "      <th>1</th>\n",
       "      <th>2</th>\n",
       "      <th>3</th>\n",
       "    </tr>\n",
       "    <tr>\n",
       "      <th>row_0</th>\n",
       "      <th></th>\n",
       "      <th></th>\n",
       "      <th></th>\n",
       "      <th></th>\n",
       "    </tr>\n",
       "  </thead>\n",
       "  <tbody>\n",
       "    <tr>\n",
       "      <th>0</th>\n",
       "      <td>37</td>\n",
       "      <td>31</td>\n",
       "      <td>195</td>\n",
       "      <td>468</td>\n",
       "    </tr>\n",
       "    <tr>\n",
       "      <th>1</th>\n",
       "      <td>95</td>\n",
       "      <td>34</td>\n",
       "      <td>167</td>\n",
       "      <td>7</td>\n",
       "    </tr>\n",
       "    <tr>\n",
       "      <th>2</th>\n",
       "      <td>33</td>\n",
       "      <td>309</td>\n",
       "      <td>56</td>\n",
       "      <td>2</td>\n",
       "    </tr>\n",
       "    <tr>\n",
       "      <th>3</th>\n",
       "      <td>295</td>\n",
       "      <td>109</td>\n",
       "      <td>55</td>\n",
       "      <td>7</td>\n",
       "    </tr>\n",
       "  </tbody>\n",
       "</table>\n",
       "</div>"
      ],
      "text/plain": [
       "col_0    0    1    2    3\n",
       "row_0                    \n",
       "0       37   31  195  468\n",
       "1       95   34  167    7\n",
       "2       33  309   56    2\n",
       "3      295  109   55    7"
      ]
     },
     "execution_count": 15,
     "metadata": {},
     "output_type": "execute_result"
    }
   ],
   "source": [
    "y_etalon_pred_train=np.argmax(etalon_matrix,axis=1)\n",
    "pd.crosstab(y_etalon_pred_train,y_train)"
   ]
  },
  {
   "cell_type": "code",
   "execution_count": 16,
   "id": "17e86576",
   "metadata": {},
   "outputs": [
    {
     "name": "stdout",
     "output_type": "stream",
     "text": [
      "Точность на тренировочных данных: 0.652\n"
     ]
    }
   ],
   "source": [
    "matches_etalon={\n",
    "    0:3,\n",
    "    1:2,\n",
    "    2:1,\n",
    "    3:0\n",
    "}\n",
    "print(\"Точность на тренировочных данных:\",round(get_accuracy(matches_etalon,y_etalon_pred_train,y_train),3))"
   ]
  },
  {
   "cell_type": "markdown",
   "id": "e4d06c86",
   "metadata": {},
   "source": [
    "## Расчёт когерентностей тем"
   ]
  },
  {
   "cell_type": "code",
   "execution_count": 5,
   "id": "e4f4d19f",
   "metadata": {},
   "outputs": [],
   "source": [
    "from utils.metrics import get_coherence_score"
   ]
  },
  {
   "cell_type": "markdown",
   "id": "03589bef",
   "metadata": {},
   "source": [
    "Рассчитаем когерентности тем на всём датасете"
   ]
  },
  {
   "cell_type": "code",
   "execution_count": 6,
   "id": "64fe156d",
   "metadata": {},
   "outputs": [
    {
     "name": "stdout",
     "output_type": "stream",
     "text": [
      "Когерентность тем (u_mass): -0.3728\n"
     ]
    }
   ],
   "source": [
    "lda_test=LDA(num_themes=4, alpha=1.5, beta=1.5)\n",
    "_,_=lda_test.fit_predict(train_text=X_train,max_steps=500)\n",
    "get_coherence_score(lda_test.vectorizer, lda_test.phi, X, metric='u_mass')#По реализованному алгоритму\n"
   ]
  },
  {
   "cell_type": "code",
   "execution_count": 9,
   "id": "e332d3c5",
   "metadata": {},
   "outputs": [],
   "source": [
    "lda_test_etalon=LatentDirichletAllocation(n_components=4)\n",
    "X_t=lda_test.vectorizer.transform(X)\n",
    "lda_test_etalon.fit_transform(X_t)\n",
    "etalon_phi=lda_test_etalon.components_/lda_test_etalon.components_.sum(axis=1, keepdims=True)"
   ]
  },
  {
   "cell_type": "code",
   "execution_count": 141,
   "id": "a62adbdb",
   "metadata": {},
   "outputs": [
    {
     "name": "stdout",
     "output_type": "stream",
     "text": [
      "Когерентность тем (u_mass): -0.3968\n"
     ]
    }
   ],
   "source": [
    "get_coherence_score(lda.vectorizer, etalon_phi, X_train, metric='u_mass')#По эталонному алгоритму"
   ]
  }
 ],
 "metadata": {
  "kernelspec": {
   "display_name": "tb_env",
   "language": "python",
   "name": "python3"
  },
  "language_info": {
   "codemirror_mode": {
    "name": "ipython",
    "version": 3
   },
   "file_extension": ".py",
   "mimetype": "text/x-python",
   "name": "python",
   "nbconvert_exporter": "python",
   "pygments_lexer": "ipython3",
   "version": "3.10.16"
  }
 },
 "nbformat": 4,
 "nbformat_minor": 5
}
