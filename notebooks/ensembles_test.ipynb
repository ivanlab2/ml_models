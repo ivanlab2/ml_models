{
 "cells": [
  {
   "cell_type": "markdown",
   "id": "7471c6d1",
   "metadata": {},
   "source": [
    "# Тестирование ансамблевых классификаторов"
   ]
  },
  {
   "cell_type": "code",
   "execution_count": 1,
   "id": "6254ee74",
   "metadata": {},
   "outputs": [],
   "source": [
    "import sys\n",
    "import os\n",
    "current_dir = os.path.abspath('')\n",
    "project_root = os.path.abspath(os.path.join(current_dir, '..'))\n",
    "sys.path.insert(0, project_root)"
   ]
  },
  {
   "cell_type": "code",
   "execution_count": null,
   "id": "2ccb1ec9",
   "metadata": {},
   "outputs": [],
   "source": [
    "import numpy as np\n",
    "import pandas as pd\n",
    "from sklearn.model_selection import train_test_split\n",
    "import time\n",
    "from sklearn.ensemble import RandomForestClassifier,GradientBoostingClassifier as EtalonClassifier\n",
    "from ensembles.GradientBoosting import GradientBoostingClassifier\n",
    "from ensembles.RandomForest import RandomForest\n",
    "from utils.metrics import cross_validation, create_model"
   ]
  },
  {
   "cell_type": "markdown",
   "id": "b132c100",
   "metadata": {},
   "source": [
    "## Подготовка данных"
   ]
  },
  {
   "cell_type": "code",
   "execution_count": 3,
   "id": "b2c84558",
   "metadata": {},
   "outputs": [],
   "source": [
    "data=pd.read_csv('../data/breast-cancer.csv', sep=',')\n",
    "data[(data[['diagnosis']]=='M')]=1\n",
    "data[(data[['diagnosis']]=='B')]=-1\n",
    "data=data.drop(['id'], axis=1)\n",
    "y=data[['diagnosis']].to_numpy().reshape(-1).astype(np.int8)\n",
    "data=data.drop(['diagnosis'], axis=1)\n",
    "data=data.drop(['radius_mean', 'area_mean', 'radius_mean', 'radius_worst', 'area_worst', 'perimeter_worst'], axis=1)\n",
    "data=data.drop(['concavity_mean', 'concave points_mean', 'texture_worst'], axis=1)\n",
    "data=data.drop(['area_se', 'perimeter_se', 'compactness_worst','concave points_worst'], axis=1)\n",
    "data=data.drop(['smoothness_worst','concavity_worst'], axis=1)\n"
   ]
  },
  {
   "cell_type": "code",
   "execution_count": 4,
   "id": "5a339892",
   "metadata": {},
   "outputs": [],
   "source": [
    "X=data.to_numpy()\n",
    "X_train,X_test,y_train,y_test=train_test_split(X,y,test_size=0.3, random_state=24)"
   ]
  },
  {
   "cell_type": "markdown",
   "id": "fdb09b0f",
   "metadata": {},
   "source": [
    "## Случайный лес"
   ]
  },
  {
   "cell_type": "code",
   "execution_count": 5,
   "id": "2454c341",
   "metadata": {},
   "outputs": [
    {
     "name": "stdout",
     "output_type": "stream",
     "text": [
      "Время обучения и предсказания собственной реализации случайного леса: 114.188 ms\n"
     ]
    }
   ],
   "source": [
    "rf=RandomForest(n_trees=130, max_depth=10, n_features=4,min_samples_leaf=2,min_samples_split=5, eps_1=0.55, eps_2=0.55)\n",
    "start = time.time()\n",
    "rf.fit(X_train,y_train)\n",
    "y_pred=rf.predict(X_test)\n",
    "end = time.time()\n",
    "print(\"Время обучения и предсказания собственной реализации случайного леса:\",\n",
    "      round((end-start) * 10**3,3), \"ms\")"
   ]
  },
  {
   "cell_type": "code",
   "execution_count": 6,
   "id": "404cc7a4",
   "metadata": {},
   "outputs": [
    {
     "name": "stdout",
     "output_type": "stream",
     "text": [
      "Время обучения и предсказания эталонной реализации случайного леса: 127.318 ms\n"
     ]
    }
   ],
   "source": [
    "clf=RandomForestClassifier(max_depth=10, criterion='entropy', n_estimators=130, min_samples_leaf=2,min_samples_split=5)\n",
    "start = time.time()\n",
    "clf.fit(X_train,y_train)\n",
    "y_pred=clf.predict(X_test)\n",
    "end = time.time()\n",
    "print(\"Время обучения и предсказания эталонной реализации случайного леса:\",\n",
    "      round((end-start) * 10**3,3), \"ms\")"
   ]
  },
  {
   "cell_type": "code",
   "execution_count": 7,
   "id": "3c15455e",
   "metadata": {},
   "outputs": [
    {
     "name": "stdout",
     "output_type": "stream",
     "text": [
      "Точность написанного вручную случайного леса с использованием кросс-валидации: 0.9367\n",
      "Точность эталонной реализации случайного леса с использованием кросс-валидации: 0.9367\n"
     ]
    }
   ],
   "source": [
    "print(\"Точность написанного вручную случайного леса с использованием кросс-валидации:\", np.round(cross_validation(create_model(RandomForest,n_trees=130, max_depth=10, \n",
    "                                                                                                                                            n_features=4,min_samples_leaf=2,\n",
    "                                                                                                                                            min_samples_split=5, eps_1=0.55, eps_2=0.55),X,y,5),4))\n",
    "print(\"Точность эталонной реализации случайного леса с использованием кросс-валидации:\", np.round(cross_validation(create_model(RandomForestClassifier,max_depth=10, criterion='entropy', n_estimators=130, min_samples_leaf=2,min_samples_split=5),X,y,5),4))"
   ]
  },
  {
   "cell_type": "markdown",
   "id": "413ce14f",
   "metadata": {},
   "source": [
    "## Градиентный бустинг"
   ]
  },
  {
   "cell_type": "code",
   "execution_count": 8,
   "id": "c08036a4",
   "metadata": {},
   "outputs": [
    {
     "name": "stdout",
     "output_type": "stream",
     "text": [
      "Время обучения и предсказания собственной реализации градиентного бустинга: 289.13 ms\n",
      "Время обучения и предсказания эталонной реализации градиентного бустинга: 229.047 ms\n"
     ]
    }
   ],
   "source": [
    "gb=GradientBoostingClassifier(n_trees=300, max_depth=1)\n",
    "start = time.time()\n",
    "gb.fit(X_train,y_train)\n",
    "y_pred=gb.predict(X_test)\n",
    "end = time.time()\n",
    "print(\"Время обучения и предсказания собственной реализации градиентного бустинга:\",\n",
    "      round((end-start) * 10**3,3), \"ms\")\n",
    "\n",
    "clf_gb = EtalonClassifier(n_estimators=300, loss='exponential',criterion='squared_error',\n",
    "    max_depth=1, random_state=0)\n",
    "start = time.time()\n",
    "clf_gb.fit(X_train,y_train)\n",
    "y_pred=clf_gb.predict(X_test)\n",
    "end = time.time()\n",
    "print(\"Время обучения и предсказания эталонной реализации градиентного бустинга:\",\n",
    "      round((end-start) * 10**3,3), \"ms\")"
   ]
  },
  {
   "cell_type": "code",
   "execution_count": 12,
   "id": "f9c50f0c",
   "metadata": {},
   "outputs": [
    {
     "name": "stdout",
     "output_type": "stream",
     "text": [
      "Точность написанного вручную градиентного бустинга с использованием кросс-валидации: 0.9437\n",
      "Точность эталонной реализации градиентного бустинга с использованием кросс-валидации: 0.9437\n"
     ]
    }
   ],
   "source": [
    "print(\"Точность написанного вручную градиентного бустинга с использованием кросс-валидации:\", np.round(cross_validation(create_model(GradientBoostingClassifier,n_trees=300, max_depth=1),X,y,5),4))\n",
    "print(\"Точность эталонной реализации градиентного бустинга с использованием кросс-валидации:\", np.round(cross_validation(create_model(EtalonClassifier,n_estimators=300,\n",
    "                                                                                                                                       loss='exponential',criterion='squared_error',\n",
    "                                                                                                                                       max_depth=1, random_state=0),X,y,5),4))"
   ]
  }
 ],
 "metadata": {
  "kernelspec": {
   "display_name": "Python 3",
   "language": "python",
   "name": "python3"
  },
  "language_info": {
   "codemirror_mode": {
    "name": "ipython",
    "version": 3
   },
   "file_extension": ".py",
   "mimetype": "text/x-python",
   "name": "python",
   "nbconvert_exporter": "python",
   "pygments_lexer": "ipython3",
   "version": "3.13.5"
  }
 },
 "nbformat": 4,
 "nbformat_minor": 5
}
