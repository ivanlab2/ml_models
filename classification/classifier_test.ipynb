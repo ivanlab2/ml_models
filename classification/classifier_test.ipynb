{
 "cells": [
  {
   "cell_type": "markdown",
   "id": "7f47db84",
   "metadata": {},
   "source": [
    "# Тестирование классификаторов"
   ]
  },
  {
   "cell_type": "code",
   "execution_count": null,
   "id": "a2849a9d",
   "metadata": {},
   "outputs": [],
   "source": [
    "import sys\n",
    "import os\n",
    "current_dir = os.path.abspath('')\n",
    "project_root = os.path.abspath(os.path.join(current_dir, '..'))\n",
    "sys.path.insert(0, project_root)"
   ]
  },
  {
   "cell_type": "code",
   "execution_count": null,
   "id": "55845211",
   "metadata": {},
   "outputs": [],
   "source": [
    "import numpy as np\n",
    "import pandas as pd\n",
    "from sklearn.model_selection import train_test_split\n",
    "import matplotlib.pyplot as plt\n",
    "import time\n",
    "from utils.metrics import cross_validation, create_model\n",
    "from utils.preparation import min_max_scale "
   ]
  },
  {
   "cell_type": "markdown",
   "id": "66ec3ac7",
   "metadata": {},
   "source": [
    "## Подготовка данных"
   ]
  },
  {
   "cell_type": "code",
   "execution_count": 4,
   "id": "bfc0c660",
   "metadata": {},
   "outputs": [],
   "source": [
    "data=pd.read_csv('../data/breast-cancer.csv', sep=',')"
   ]
  },
  {
   "cell_type": "code",
   "execution_count": 5,
   "id": "caac2cfa",
   "metadata": {},
   "outputs": [],
   "source": [
    "data=data.drop(['id'], axis=1)\n",
    "data[(data[['diagnosis']]=='M')]=1\n",
    "data[(data[['diagnosis']]=='B')]=-1\n",
    "y=data[['diagnosis']].to_numpy().reshape(-1).astype(np.int8)\n",
    "data=data.drop(['diagnosis'], axis=1)\n",
    "data=data.drop(['radius_mean', 'area_mean', 'radius_mean', 'radius_worst', 'area_worst', 'perimeter_worst'], axis=1)\n",
    "data=data.drop(['concavity_mean', 'concave points_mean', 'texture_worst'], axis=1)\n",
    "data=data.drop(['area_se', 'perimeter_se', 'compactness_worst','concave points_worst'], axis=1)\n",
    "data=data.drop(['smoothness_worst','concavity_worst'], axis=1)\n",
    "X=data.to_numpy()"
   ]
  },
  {
   "cell_type": "code",
   "execution_count": 6,
   "id": "ada673dc",
   "metadata": {},
   "outputs": [],
   "source": [
    "X_train,X_test,y_train,y_test=train_test_split(X,y,test_size=0.3, random_state=24)"
   ]
  },
  {
   "cell_type": "code",
   "execution_count": 8,
   "id": "0c9235f6",
   "metadata": {},
   "outputs": [],
   "source": [
    "X_st=min_max_scale(X)\n",
    "X_train_st=min_max_scale(X_train)\n",
    "X_test_st=min_max_scale(X_test)"
   ]
  },
  {
   "cell_type": "markdown",
   "id": "f9e7019c",
   "metadata": {},
   "source": [
    "## Наивный байесовский классификатор"
   ]
  },
  {
   "cell_type": "code",
   "execution_count": 6,
   "id": "0ef43584",
   "metadata": {},
   "outputs": [],
   "source": [
    "from BayesClassifier import GaussianNBC\n",
    "from sklearn.naive_bayes import GaussianNB"
   ]
  },
  {
   "cell_type": "code",
   "execution_count": 7,
   "id": "b1974b2a",
   "metadata": {},
   "outputs": [],
   "source": [
    "NBC=GaussianNBC()\n",
    "NBC_etalon=GaussianNB()"
   ]
  },
  {
   "cell_type": "code",
   "execution_count": 8,
   "id": "5da6a9be",
   "metadata": {},
   "outputs": [
    {
     "name": "stdout",
     "output_type": "stream",
     "text": [
      "Время обучения и предсказания реализованного алгоритма: 0.412 ms\n",
      "Время обучения и предсказания эталонного алгоритма 1.045 ms\n"
     ]
    }
   ],
   "source": [
    "start = time.time()\n",
    "NBC.fit(X_train,y_train)\n",
    "y_pred=NBC.predict(X_test)\n",
    "end = time.time()\n",
    "print(\"Время обучения и предсказания реализованного алгоритма:\",\n",
    "      round((end-start) * 10**3,3), \"ms\")\n",
    "start = time.time()\n",
    "NBC_etalon.fit(X_train,y_train)\n",
    "y_pred=NBC_etalon.predict(X_test)\n",
    "end = time.time()\n",
    "print(\"Время обучения и предсказания эталонного алгоритма\",\n",
    "      round((end-start) * 10**3,3), \"ms\")"
   ]
  },
  {
   "cell_type": "code",
   "execution_count": 11,
   "id": "6b2c6636",
   "metadata": {},
   "outputs": [
    {
     "name": "stdout",
     "output_type": "stream",
     "text": [
      "Точность написанного вручную алгоритма с использованием кросс-валидации: 0.9033\n",
      "Точность эталонной реализации алгоритма с использованием кросс-валидации: 0.9033\n"
     ]
    }
   ],
   "source": [
    "print(\"Точность написанного вручную алгоритма с использованием кросс-валидации:\", round(cross_validation(GaussianNBC,X,y,5),4))\n",
    "print(\"Точность эталонной реализации алгоритма с использованием кросс-валидации:\", round(cross_validation(GaussianNB,X,y,5),4))"
   ]
  },
  {
   "cell_type": "markdown",
   "id": "acc757e1",
   "metadata": {},
   "source": [
    "## Линейный классификатор"
   ]
  },
  {
   "cell_type": "code",
   "execution_count": 10,
   "id": "6f0b19cf",
   "metadata": {},
   "outputs": [],
   "source": [
    "from LinClassifier import LinearClassifier\n",
    "from sklearn.linear_model import SGDClassifier"
   ]
  },
  {
   "cell_type": "markdown",
   "id": "c31b8ef7",
   "metadata": {},
   "source": [
    "Рассмотрим разные варианты обучения модели и сравним лучшую по скорости и точности с эталонной"
   ]
  },
  {
   "cell_type": "code",
   "execution_count": 11,
   "id": "8a64d0ca",
   "metadata": {},
   "outputs": [
    {
     "name": "stdout",
     "output_type": "stream",
     "text": [
      "Точность классификации при использовании предъявления по модулю отступа и инициализации весов через мультистарт: 0.812\n"
     ]
    }
   ],
   "source": [
    "print('Точность классификации при использовании предъявления по модулю отступа\\\n",
    " и инициализации весов через мультистарт:',round(cross_validation(LinearClassifier,X_st,y,5, fit_params={'margin_present':True,\n",
    "                                                               'init_weights':'multistart','lr':0.1,'t':0.1,\n",
    "                                                                 'eps':0.0001,'inertion':0.8,\n",
    "                                                                   'lambda_rec':0.95}),4))"
   ]
  },
  {
   "cell_type": "code",
   "execution_count": 12,
   "id": "d493956d",
   "metadata": {},
   "outputs": [
    {
     "name": "stdout",
     "output_type": "stream",
     "text": [
      "Точность классификации при использовании предъявления по модулю отступа и инициализации весов через корреляцию: 0.789\n"
     ]
    }
   ],
   "source": [
    "print('Точность классификации при использовании предъявления по модулю отступа\\\n",
    " и инициализации весов через корреляцию:',round(cross_validation(LinearClassifier,X_st,y,5, fit_params={'margin_present':True, 'init_weights':'correlation',\n",
    "                                                              'lr':0.1,'t':0.1, 'eps':0.0005,\n",
    "                                                              'inertion':0.8, 'lambda_rec':0.95}),4))"
   ]
  },
  {
   "cell_type": "code",
   "execution_count": 13,
   "id": "ea22fe5c",
   "metadata": {},
   "outputs": [
    {
     "name": "stdout",
     "output_type": "stream",
     "text": [
      "Точность классификации при случайном предъявлении и инициализации весов через мультистарт: 0.9016\n"
     ]
    }
   ],
   "source": [
    "print('Точность классификации при случайном предъявлении\\\n",
    " и инициализации весов через мультистарт:',round(cross_validation(LinearClassifier,X_st,y,5, fit_params={'margin_present':False, 'init_weights':'multistart', 'lr':0.1\n",
    "                            ,'t':0.001, 'eps':0.0005,'inertion':0.8, 'lambda_rec':0.95}),4))"
   ]
  },
  {
   "cell_type": "markdown",
   "id": "a4c53476",
   "metadata": {},
   "source": [
    "Наибольшая точность была получена при случайном предъявлении весов и инициалихации весов через мультистарт. Сравним её с моделью из sklearn"
   ]
  },
  {
   "cell_type": "code",
   "execution_count": null,
   "id": "197e94f3",
   "metadata": {},
   "outputs": [
    {
     "name": "stdout",
     "output_type": "stream",
     "text": [
      "Точность эталонного классификатора: 0.877\n"
     ]
    }
   ],
   "source": [
    "print('Точность эталонного классификатора:',round(cross_validation(create_model(\n",
    "    SGDClassifier,\n",
    "loss='squared_error', penalty=\"l2\",learning_rate = 'constant',eta0=0.1,alpha=0.05,max_iter=X_train.shape[0],tol=0.0005\n",
    "),X_st,y,5),4))"
   ]
  },
  {
   "cell_type": "code",
   "execution_count": 15,
   "id": "260201b4",
   "metadata": {},
   "outputs": [
    {
     "name": "stdout",
     "output_type": "stream",
     "text": [
      "Время обучения и предсказания реализованного алгоритма: 33.086 ms\n",
      "Время обучения и предсказания эталонного алгоритма 1.142 ms\n"
     ]
    }
   ],
   "source": [
    "lc=LinearClassifier()\n",
    "etalon_lc=SGDClassifier(loss='squared_error', penalty=\"l2\",learning_rate = 'constant',eta0=0.1,alpha=0.05,max_iter=X_train.shape[0],tol=0.0005)\n",
    "start = time.time()\n",
    "lc.fit(X_train_st,y_train,margin_present=False, init_weights='multistart', lr=0.1\n",
    "                            ,t=0.0001, eps=0.0005,inertion=0.8, lambda_rec=0.95)\n",
    "y_pred=lc.predict(X_test_st)\n",
    "end = time.time()\n",
    "print(\"Время обучения и предсказания реализованного алгоритма:\",\n",
    "      round((end-start) * 10**3,3), \"ms\")\n",
    "start = time.time()\n",
    "etalon_lc.fit(X_train_st,y_train)\n",
    "y_pred=etalon_lc.predict(X_test_st)\n",
    "end = time.time()\n",
    "print(\"Время обучения и предсказания эталонного алгоритма\",\n",
    "      round((end-start) * 10**3,3), \"ms\")"
   ]
  },
  {
   "cell_type": "markdown",
   "id": "49b8fa67",
   "metadata": {},
   "source": [
    "Также эта модель позволяет визуализировать отступы объектов"
   ]
  },
  {
   "cell_type": "code",
   "execution_count": 16,
   "id": "883e1ebe",
   "metadata": {},
   "outputs": [
    {
     "data": {
      "image/png": "[encoded data removed]",
      "text/plain": [
       "<Figure size 640x480 with 1 Axes>"
      ]
     },
     "metadata": {},
     "output_type": "display_data"
    }
   ],
   "source": [
    "lc.visualise_margins(X_train_st, y_train)"
   ]
  },
  {
   "cell_type": "markdown",
   "id": "b9e2f369",
   "metadata": {},
   "source": [
    "## SVM"
   ]
  },
  {
   "cell_type": "code",
   "execution_count": 72,
   "id": "a0bfd752",
   "metadata": {},
   "outputs": [],
   "source": [
    "from SVM import SVM\n",
    "from sklearn.svm import SVC"
   ]
  },
  {
   "cell_type": "markdown",
   "id": "2e315c8f",
   "metadata": {},
   "source": [
    "Для каждого ядра посчитаем точность классификации и сравним наилучшую с эталонной реализацией"
   ]
  },
  {
   "cell_type": "code",
   "execution_count": 69,
   "id": "c897c2b3",
   "metadata": {},
   "outputs": [
    {
     "name": "stdout",
     "output_type": "stream",
     "text": [
      "Optimization terminated successfully    (Exit mode 0)\n",
      "            Current function value: -134.8382247324358\n",
      "            Iterations: 58\n",
      "            Function evaluations: 26454\n",
      "            Gradient evaluations: 58\n",
      "Optimization terminated successfully    (Exit mode 0)\n",
      "            Current function value: -140.98047958148618\n",
      "            Iterations: 60\n",
      "            Function evaluations: 27366\n",
      "            Gradient evaluations: 60\n",
      "Optimization terminated successfully    (Exit mode 0)\n",
      "            Current function value: -129.42722435144123\n",
      "            Iterations: 53\n",
      "            Function evaluations: 24174\n",
      "            Gradient evaluations: 53\n",
      "Optimization terminated successfully    (Exit mode 0)\n",
      "            Current function value: -137.65520071893144\n",
      "            Iterations: 46\n",
      "            Function evaluations: 20980\n",
      "            Gradient evaluations: 46\n",
      "Optimization terminated successfully    (Exit mode 0)\n",
      "            Current function value: -126.7468497615306\n",
      "            Iterations: 41\n",
      "            Function evaluations: 18741\n",
      "            Gradient evaluations: 41\n",
      "Точность классификации SVM с линейным ядром: 0.87\n"
     ]
    }
   ],
   "source": [
    "print('Точность классификации SVM с линейным ядром:',round(cross_validation(SVM,X_st,y,5, fit_params={'solution':'linear','c':2}),4))"
   ]
  },
  {
   "cell_type": "code",
   "execution_count": 70,
   "id": "a57a6fb3",
   "metadata": {},
   "outputs": [
    {
     "name": "stdout",
     "output_type": "stream",
     "text": [
      "Optimization terminated successfully    (Exit mode 0)\n",
      "            Current function value: -190.4510802389607\n",
      "            Iterations: 52\n",
      "            Function evaluations: 23716\n",
      "            Gradient evaluations: 52\n",
      "Optimization terminated successfully    (Exit mode 0)\n",
      "            Current function value: -202.25778752935696\n",
      "            Iterations: 53\n",
      "            Function evaluations: 24173\n",
      "            Gradient evaluations: 53\n",
      "Optimization terminated successfully    (Exit mode 0)\n",
      "            Current function value: -184.6993564477287\n",
      "            Iterations: 51\n",
      "            Function evaluations: 23260\n",
      "            Gradient evaluations: 51\n",
      "Optimization terminated successfully    (Exit mode 0)\n",
      "            Current function value: -197.477330074139\n",
      "            Iterations: 63\n",
      "            Function evaluations: 28732\n",
      "            Gradient evaluations: 63\n",
      "Optimization terminated successfully    (Exit mode 0)\n",
      "            Current function value: -179.11044684070635\n",
      "            Iterations: 52\n",
      "            Function evaluations: 23768\n",
      "            Gradient evaluations: 52\n",
      "Точность классификации SVM с ядром RBF 0.9543\n"
     ]
    }
   ],
   "source": [
    "print('Точность классификации SVM с ядром RBF',round(cross_validation(SVM,X_st,y,5, fit_params={'solution':'rbf','c':3}),4))"
   ]
  },
  {
   "cell_type": "code",
   "execution_count": 71,
   "id": "204681d2",
   "metadata": {},
   "outputs": [
    {
     "name": "stdout",
     "output_type": "stream",
     "text": [
      "Optimization terminated successfully    (Exit mode 0)\n",
      "            Current function value: -125.18619914523295\n",
      "            Iterations: 50\n",
      "            Function evaluations: 22814\n",
      "            Gradient evaluations: 50\n",
      "Optimization terminated successfully    (Exit mode 0)\n",
      "            Current function value: -135.3275029001593\n",
      "            Iterations: 58\n",
      "            Function evaluations: 26462\n",
      "            Gradient evaluations: 58\n",
      "Optimization terminated successfully    (Exit mode 0)\n",
      "            Current function value: -119.12068480923074\n",
      "            Iterations: 51\n",
      "            Function evaluations: 23270\n",
      "            Gradient evaluations: 51\n",
      "Optimization terminated successfully    (Exit mode 0)\n",
      "            Current function value: -129.71214252456892\n",
      "            Iterations: 49\n",
      "            Function evaluations: 22360\n",
      "            Gradient evaluations: 49\n",
      "Optimization terminated successfully    (Exit mode 0)\n",
      "            Current function value: -119.77920490886223\n",
      "            Iterations: 52\n",
      "            Function evaluations: 23779\n",
      "            Gradient evaluations: 52\n",
      "Точность классификации SVM с полиномиальным ядром степени 3 0.9243\n"
     ]
    }
   ],
   "source": [
    "print('Точность классификации SVM с полиномиальным ядром степени 3',round(cross_validation(SVM,X_st,y,5, fit_params={'solution':'poly','c':3,'d':3}),4))"
   ]
  },
  {
   "cell_type": "markdown",
   "id": "1e6e0ffb",
   "metadata": {},
   "source": [
    "Наиболее точным оказался SVM с rbf-ядром"
   ]
  },
  {
   "cell_type": "code",
   "execution_count": null,
   "id": "1a084a3b",
   "metadata": {},
   "outputs": [
    {
     "name": "stdout",
     "output_type": "stream",
     "text": [
      "Точность эталонной реализации:  0.9578\n"
     ]
    }
   ],
   "source": [
    "print('Точность эталонной реализации: ',round(cross_validation(create_model(SVC, kernel='rbf', C=3, gamma=1/(X_train_st.shape[1]*np.std(X_train_st))),X_st,y,5),4))"
   ]
  },
  {
   "cell_type": "code",
   "execution_count": 87,
   "id": "fae6233b",
   "metadata": {},
   "outputs": [
    {
     "name": "stdout",
     "output_type": "stream",
     "text": [
      "Optimization terminated successfully    (Exit mode 0)\n",
      "            Current function value: -180.26108253296323\n",
      "            Iterations: 55\n",
      "            Function evaluations: 21949\n",
      "            Gradient evaluations: 55\n",
      "Время обучения и предсказания реализованного алгоритма: 312143.834 ms\n",
      "Время обучения и предсказания эталонного алгоритма 2.875 ms\n"
     ]
    }
   ],
   "source": [
    "svm=SVM()\n",
    "etalon_svm=SVC(kernel='rbf', C=3, gamma=1/(X_train_st.shape[1]*np.std(X_train_st)))\n",
    "start = time.time()\n",
    "svm.fit(X_train_st,y_train, solution='rbf',c=3)\n",
    "y_pred=lc.predict(X_test_st)\n",
    "end = time.time()\n",
    "print(\"Время обучения и предсказания реализованного алгоритма:\",\n",
    "      round((end-start) * 10**3,3), \"ms\")\n",
    "start = time.time()\n",
    "etalon_svm.fit(X_train_st,y_train)\n",
    "y_pred=etalon_svm.predict(X_test_st)\n",
    "end = time.time()\n",
    "print(\"Время обучения и предсказания эталонного алгоритма\",\n",
    "      round((end-start) * 10**3,3), \"ms\")"
   ]
  },
  {
   "cell_type": "markdown",
   "id": "2efe4fb1",
   "metadata": {},
   "source": [
    "## KNN"
   ]
  },
  {
   "cell_type": "code",
   "execution_count": 19,
   "id": "d479e71d",
   "metadata": {},
   "outputs": [],
   "source": [
    "from knn import KNN\n",
    "from sklearn.neighbors import KNeighborsClassifier"
   ]
  },
  {
   "cell_type": "code",
   "execution_count": 20,
   "id": "06eeeb3b",
   "metadata": {},
   "outputs": [],
   "source": [
    "knn=KNN()"
   ]
  },
  {
   "cell_type": "markdown",
   "id": "26f87c63",
   "metadata": {},
   "source": [
    "Построим график эмпирического риска, где с помощью метода leave_one_out высчитывается точность классификации и выбирается оптимальный k\n"
   ]
  },
  {
   "cell_type": "code",
   "execution_count": 21,
   "id": "281dd4c1",
   "metadata": {},
   "outputs": [
    {
     "data": {
      "image/png": "[encoded data removed]",
      "text/plain": [
       "<Figure size 640x480 with 1 Axes>"
      ]
     },
     "metadata": {},
     "output_type": "display_data"
    }
   ],
   "source": [
    "knn.build_graph(X_st,y)"
   ]
  },
  {
   "cell_type": "code",
   "execution_count": 22,
   "id": "2d98e243",
   "metadata": {},
   "outputs": [
    {
     "name": "stdout",
     "output_type": "stream",
     "text": [
      "Время обучения и предсказания реализованного алгоритма: 7.49 ms\n",
      "Время обучения и предсказания эталонного алгоритма 188.659 ms\n"
     ]
    }
   ],
   "source": [
    "knn=KNN()\n",
    "etalon_knn=KNeighborsClassifier(n_neighbors=6,weights='distance')\n",
    "start = time.time()\n",
    "knn.fit_predict(X_train_st,y_train,X_test_st,k=6)\n",
    "end = time.time()\n",
    "print(\"Время обучения и предсказания реализованного алгоритма:\",\n",
    "      round((end-start) * 10**3,3), \"ms\")\n",
    "start = time.time()\n",
    "etalon_knn.fit(X_train_st,y_train)\n",
    "y_pred=etalon_knn.predict(X_test_st)\n",
    "end = time.time()\n",
    "print(\"Время обучения и предсказания эталонного алгоритма\",\n",
    "      round((end-start) * 10**3,3), \"ms\")"
   ]
  },
  {
   "cell_type": "code",
   "execution_count": 23,
   "id": "c510b254",
   "metadata": {},
   "outputs": [
    {
     "name": "stdout",
     "output_type": "stream",
     "text": [
      "Точность классификации реализованной модели 0.9438\n"
     ]
    }
   ],
   "source": [
    "print('Точность классификации реализованной модели',round(cross_validation(KNN,X_st,y,5, fit_params={'k':6}, fit_predict=True),4))"
   ]
  },
  {
   "cell_type": "code",
   "execution_count": null,
   "id": "cbd75d07",
   "metadata": {},
   "outputs": [
    {
     "name": "stdout",
     "output_type": "stream",
     "text": [
      "Точность эталонной реализации:  0.9472\n"
     ]
    }
   ],
   "source": [
    "print('Точность эталонной реализации: ',round(cross_validation(create_model(KNeighborsClassifier, n_neighbors=6,weights='distance'),X_st,y,5),4))"
   ]
  }
 ],
 "metadata": {
  "kernelspec": {
   "display_name": "Python 3",
   "language": "python",
   "name": "python3"
  },
  "language_info": {
   "codemirror_mode": {
    "name": "ipython",
    "version": 3
   },
   "file_extension": ".py",
   "mimetype": "text/x-python",
   "name": "python",
   "nbconvert_exporter": "python",
   "pygments_lexer": "ipython3",
   "version": "3.13.3"
  }
 },
 "nbformat": 4,
 "nbformat_minor": 5
}
